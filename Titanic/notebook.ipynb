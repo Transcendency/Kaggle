{
  "cells": [
    {
      "metadata": {
        "_cell_guid": "7dfcc607-f82c-4acc-9ff5-b161b7d7fc41",
        "_uuid": "ce6954d82530c00b8f2ec9cdeccc484f9d1d2477",
        "trusted": false,
        "collapsed": true
      },
      "cell_type": "code",
      "source": "# This Python 3 environment comes with many helpful analytics libraries installed\n# It is defined by the kaggle/python docker image: https://github.com/kaggle/docker-python\n# For example, here's several helpful packages to load in \n\nimport numpy as np # linear algebra\nimport pandas as pd # data processing, CSV file I/O (e.g. pd.read_csv)\n\n# Input data files are available in the \"../input/\" directory.\n# For example, running this (by clicking run or pressing Shift+Enter) will list the files in the input directory\n\nfrom subprocess import check_output\nprint(check_output([\"ls\", \"../input\"]).decode(\"utf8\"))\n\n# Any results you write to the current directory are saved as output.",
      "execution_count": null,
      "outputs": []
    },
    {
      "metadata": {
        "_cell_guid": "8c2cde11-b68a-4440-8d04-c6d095e525df",
        "_uuid": "b1c5a4c209885e0584325258bd0368c384c6b27c"
      },
      "cell_type": "markdown",
      "source": "## 1. Explore Titanic data set"
    },
    {
      "metadata": {
        "_cell_guid": "547e3681-cf8c-43c4-adc3-4ecab254cdfd",
        "_uuid": "d64654be955e5b2bb36aea45eab93983ba1dffef",
        "trusted": false,
        "collapsed": true
      },
      "cell_type": "code",
      "source": "train = pd.read_csv(\"../input/train.csv\")\ntrain.head(3)",
      "execution_count": null,
      "outputs": []
    },
    {
      "metadata": {
        "_cell_guid": "dc1b4da0-4c4e-4b63-8449-284e2d1cfe72",
        "_uuid": "c924ce664ef4bc50c6d4c6f38d633930916135de",
        "trusted": false,
        "collapsed": true
      },
      "cell_type": "code",
      "source": "train.columns",
      "execution_count": null,
      "outputs": []
    },
    {
      "metadata": {
        "_cell_guid": "224d4c93-c485-49cc-9bc7-87e01f616d3f",
        "_uuid": "61187a4f8d7f8228242925ee7f08d612f708214f"
      },
      "cell_type": "markdown",
      "source": "**split train data to features and labels**"
    },
    {
      "metadata": {
        "_cell_guid": "c7ed7907-968a-4350-a495-cbc0b216e229",
        "_uuid": "88b505bf2405d4f6db3f2dc64902d752f0be0baa",
        "trusted": false,
        "collapsed": true
      },
      "cell_type": "code",
      "source": "labels = train['Survived']\nfeatures = train.drop('Survived', axis=1)\nprint(labels.head(3))\nfeatures.head(3)",
      "execution_count": null,
      "outputs": []
    },
    {
      "metadata": {
        "_uuid": "514c37969a7536e233234f4127612e80b8a37790",
        "_cell_guid": "d70013e0-7e03-4075-976d-d3adb5519d10",
        "collapsed": true
      },
      "cell_type": "markdown",
      "source": "**cleaning missing data**"
    },
    {
      "metadata": {
        "_cell_guid": "fbfa1655-1d22-44c3-939a-cfa7dac8256d",
        "_uuid": "a86b56230fa1b54a7037282b22e2557a3d3da29b",
        "trusted": false,
        "collapsed": true
      },
      "cell_type": "code",
      "source": "features.isnull().sum()",
      "execution_count": null,
      "outputs": []
    },
    {
      "metadata": {
        "_uuid": "efe516423b0a11624bb6773d43126ab804563f8c",
        "_cell_guid": "b306cda3-c72b-4c16-a502-867169a5527a",
        "collapsed": true
      },
      "cell_type": "markdown",
      "source": "**check values in Cabin**"
    },
    {
      "metadata": {
        "_cell_guid": "db332117-ae71-4274-bf88-7054a1f737e2",
        "_uuid": "40da6f5048f8d2ab055100cd6e1de1fa084ada3b",
        "trusted": false,
        "collapsed": true
      },
      "cell_type": "code",
      "source": "features.Cabin.value_counts().plot(kind='bar')",
      "execution_count": null,
      "outputs": []
    },
    {
      "metadata": {
        "_cell_guid": "460b3781-aa4f-40a0-b847-865802b764a6",
        "_uuid": "4d77247f50e19471079e34a0f08f598f37d44bdd",
        "collapsed": true,
        "trusted": false
      },
      "cell_type": "code",
      "source": "",
      "execution_count": null,
      "outputs": []
    }
  ],
  "metadata": {
    "language_info": {
      "file_extension": ".py",
      "pygments_lexer": "ipython3",
      "codemirror_mode": {
        "name": "ipython",
        "version": 3
      },
      "name": "python",
      "nbconvert_exporter": "python",
      "mimetype": "text/x-python",
      "version": "3.6.4"
    },
    "kernelspec": {
      "display_name": "Python 3",
      "language": "python",
      "name": "python3"
    }
  },
  "nbformat": 4,
  "nbformat_minor": 1
}