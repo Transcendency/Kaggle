{
 "cells": [
  {
   "cell_type": "code",
   "execution_count": 1,
   "metadata": {
    "_cell_guid": "7dfcc607-f82c-4acc-9ff5-b161b7d7fc41",
    "_uuid": "ce6954d82530c00b8f2ec9cdeccc484f9d1d2477"
   },
   "outputs": [
    {
     "ename": "ModuleNotFoundError",
     "evalue": "No module named 'seaborn'",
     "output_type": "error",
     "traceback": [
      "\u001b[1;31m---------------------------------------------------------------------------\u001b[0m",
      "\u001b[1;31mModuleNotFoundError\u001b[0m                       Traceback (most recent call last)",
      "\u001b[1;32m<ipython-input-1-7c61030aa733>\u001b[0m in \u001b[0;36m<module>\u001b[1;34m()\u001b[0m\n\u001b[0;32m      6\u001b[0m \u001b[1;32mimport\u001b[0m \u001b[0mpandas\u001b[0m \u001b[1;32mas\u001b[0m \u001b[0mpd\u001b[0m \u001b[1;31m# data processing, CSV file I/O (e.g. pd.read_csv)\u001b[0m\u001b[1;33m\u001b[0m\u001b[0m\n\u001b[0;32m      7\u001b[0m \u001b[1;32mimport\u001b[0m \u001b[0mmatplotlib\u001b[0m\u001b[1;33m.\u001b[0m\u001b[0mpyplot\u001b[0m \u001b[1;32mas\u001b[0m \u001b[0mplt\u001b[0m\u001b[1;33m\u001b[0m\u001b[0m\n\u001b[1;32m----> 8\u001b[1;33m \u001b[1;32mimport\u001b[0m \u001b[0mseaborn\u001b[0m \u001b[1;32mas\u001b[0m \u001b[0msns\u001b[0m\u001b[1;33m\u001b[0m\u001b[0m\n\u001b[0m\u001b[0;32m      9\u001b[0m \u001b[0msns\u001b[0m\u001b[1;33m.\u001b[0m\u001b[0mset_style\u001b[0m\u001b[1;33m(\u001b[0m\u001b[1;34m\"whitegrid\"\u001b[0m\u001b[1;33m)\u001b[0m\u001b[1;33m\u001b[0m\u001b[0m\n\u001b[0;32m     10\u001b[0m \u001b[0mget_ipython\u001b[0m\u001b[1;33m(\u001b[0m\u001b[1;33m)\u001b[0m\u001b[1;33m.\u001b[0m\u001b[0mrun_line_magic\u001b[0m\u001b[1;33m(\u001b[0m\u001b[1;34m'matplotlib'\u001b[0m\u001b[1;33m,\u001b[0m \u001b[1;34m'inline'\u001b[0m\u001b[1;33m)\u001b[0m\u001b[1;33m\u001b[0m\u001b[0m\n",
      "\u001b[1;31mModuleNotFoundError\u001b[0m: No module named 'seaborn'"
     ]
    }
   ],
   "source": [
    "# This Python 3 environment comes with many helpful analytics libraries installed\n",
    "# It is defined by the kaggle/python docker image: https://github.com/kaggle/docker-python\n",
    "# For example, here's several helpful packages to load in \n",
    "\n",
    "import numpy as np # linear algebra\n",
    "import pandas as pd # data processing, CSV file I/O (e.g. pd.read_csv)\n",
    "import matplotlib.pyplot as plt\n",
    "import seaborn as sns\n",
    "sns.set_style(\"whitegrid\")\n",
    "%matplotlib inline\n",
    "\n",
    "# Input data files are available in the \"../input/\" directory.\n",
    "# For example, running this (by clicking run or pressing Shift+Enter) will list the files in the input directory\n",
    "\n",
    "from subprocess import check_output\n",
    "print(check_output([\"ls\", \"../input\"]).decode(\"utf8\"))\n",
    "\n",
    "\n",
    "## models\n",
    "from sklearn.linear_model import LogisticRegression\n",
    "from sklearn.ensemble import RandomForestClassifier\n",
    "# Any results you write to the current directory are saved as output."
   ]
  },
  {
   "cell_type": "markdown",
   "metadata": {
    "_cell_guid": "8c2cde11-b68a-4440-8d04-c6d095e525df",
    "_uuid": "b1c5a4c209885e0584325258bd0368c384c6b27c"
   },
   "source": [
    "## 1. Explore Titanic data set"
   ]
  },
  {
   "cell_type": "code",
   "execution_count": null,
   "metadata": {
    "_cell_guid": "547e3681-cf8c-43c4-adc3-4ecab254cdfd",
    "_uuid": "d64654be955e5b2bb36aea45eab93983ba1dffef"
   },
   "outputs": [],
   "source": [
    "train = pd.read_csv(\"../input/train.csv\")\n",
    "test = pd.read_csv(\"../input/test.csv\")\n",
    "test_temp = pd.read_csv(\"../input/test.csv\")\n",
    "train.head(3)"
   ]
  },
  {
   "cell_type": "code",
   "execution_count": null,
   "metadata": {
    "_cell_guid": "dc1b4da0-4c4e-4b63-8449-284e2d1cfe72",
    "_uuid": "c924ce664ef4bc50c6d4c6f38d633930916135de"
   },
   "outputs": [],
   "source": [
    "print(train.columns)\n",
    "print(test.columns)"
   ]
  },
  {
   "cell_type": "markdown",
   "metadata": {
    "_cell_guid": "224d4c93-c485-49cc-9bc7-87e01f616d3f",
    "_uuid": "61187a4f8d7f8228242925ee7f08d612f708214f"
   },
   "source": [
    "**split train data to features and labels**"
   ]
  },
  {
   "cell_type": "code",
   "execution_count": null,
   "metadata": {
    "_cell_guid": "c7ed7907-968a-4350-a495-cbc0b216e229",
    "_uuid": "88b505bf2405d4f6db3f2dc64902d752f0be0baa"
   },
   "outputs": [],
   "source": [
    "train_labels = train['Survived']\n",
    "train_features = train.drop('Survived', axis=1)\n",
    "print(train_labels.head(3))\n",
    "train_features.head(3)"
   ]
  },
  {
   "cell_type": "markdown",
   "metadata": {
    "_cell_guid": "d70013e0-7e03-4075-976d-d3adb5519d10",
    "_uuid": "514c37969a7536e233234f4127612e80b8a37790",
    "collapsed": true
   },
   "source": [
    "## drop unuseful columns"
   ]
  },
  {
   "cell_type": "code",
   "execution_count": null,
   "metadata": {
    "_cell_guid": "fbfa1655-1d22-44c3-939a-cfa7dac8256d",
    "_uuid": "a86b56230fa1b54a7037282b22e2557a3d3da29b"
   },
   "outputs": [],
   "source": [
    "print(train_features.shape)\n",
    "print(test.isnull().sum())\n",
    "train_features.isnull().sum()"
   ]
  },
  {
   "cell_type": "markdown",
   "metadata": {
    "_cell_guid": "b306cda3-c72b-4c16-a502-867169a5527a",
    "_uuid": "efe516423b0a11624bb6773d43126ab804563f8c",
    "collapsed": true
   },
   "source": [
    "**Cabin has too many NaN values, so drop it and also drop intuitive unuseful attributes PassengerId Name and Ticket **"
   ]
  },
  {
   "cell_type": "code",
   "execution_count": null,
   "metadata": {
    "_cell_guid": "460b3781-aa4f-40a0-b847-865802b764a6",
    "_uuid": "4d77247f50e19471079e34a0f08f598f37d44bdd"
   },
   "outputs": [],
   "source": [
    "train_features = train_features.drop(['Cabin', 'PassengerId', 'Ticket', 'Name'], axis=1)\n",
    "train_features.columns"
   ]
  },
  {
   "cell_type": "markdown",
   "metadata": {
    "_cell_guid": "781e4eb6-86dc-495b-87bf-1dc21024b5ad",
    "_uuid": "5b9317e804d507cb162d26619e59f4ba5c5ab6ef",
    "collapsed": true
   },
   "source": [
    "**Do the same for test data**"
   ]
  },
  {
   "cell_type": "code",
   "execution_count": null,
   "metadata": {
    "_cell_guid": "473bde3f-fcda-460c-b28e-b94b983b0303",
    "_uuid": "ece71b00b30b1ee7fdf8ae43d4fb8910406423b2"
   },
   "outputs": [],
   "source": [
    "test = test.drop(['PassengerId', 'Ticket', 'Name', 'Cabin'], axis = 1)\n",
    "test.columns"
   ]
  },
  {
   "cell_type": "markdown",
   "metadata": {
    "_uuid": "8a0b2ae730c08accf9a9343595a97a32a1782cd5"
   },
   "source": [
    "## Fill the missing values"
   ]
  },
  {
   "cell_type": "markdown",
   "metadata": {
    "_cell_guid": "f6cf8f42-e90e-4fca-bd4e-56012dbf9afb",
    "_uuid": "d23309b909e70ccc1f3d491e7051810e511e627d"
   },
   "source": [
    "**Now only Age and Embarked have missing values, Show the histogram of age and embarked**\n",
    "**Becuase age has missing values in 177 rows, so fill any constant value for all 177 rows will impact the result.**\n",
    "**It is better to generate random number from gaussian distribution**\n"
   ]
  },
  {
   "cell_type": "code",
   "execution_count": null,
   "metadata": {
    "_cell_guid": "a5da83eb-b244-4171-9bb9-6a0d46e57556",
    "_uuid": "b3cc734100d143551dd5e7477a91a634364856c0"
   },
   "outputs": [],
   "source": [
    "# fill the missing values with the median\n",
    "fig, (axis1, axis2) = plt.subplots(1,2,figsize=(15,4))\n",
    "axis1.set_title('Orignial Age values distribution')\n",
    "axis2.set_title('New Age values distribution')\n",
    "\n",
    "# get average, std, and number of NaN values in titanic_df\n",
    "train_mean_age = train_features[\"Age\"].mean()\n",
    "train_std_age = train_features[\"Age\"].std()\n",
    "count_NaN_age = train_features[\"Age\"].isnull().sum()\n",
    "\n",
    "test_mean_age = test[\"Age\"].mean()\n",
    "test_std_age = test[\"Age\"].std()\n",
    "count_test_NaN_age = test[\"Age\"].isnull().sum()\n",
    "\n",
    "# Generate random numbers between (mean -std) & (mean + std)\n",
    "rand_NaN_age = np.random.randint(train_mean_age - train_std_age, train_mean_age + train_std_age, size = count_NaN_age)\n",
    "test_rand_NaN_age = np.random.randint(test_mean_age - test_std_age, test_mean_age + test_std_age, size = count_test_NaN_age)\n",
    "\n",
    "## plot original Age Values\n",
    "## NOTE: drop all null values, and convrt to int\n",
    "train_features['Age'].dropna().hist(bins=70, ax=axis1)\n",
    "\n",
    "## fill NaN values in age column withrandom vlaues generated\n",
    "train_features['Age'][np.isnan(train_features['Age'])] = rand_NaN_age\n",
    "test['Age'][np.isnan(test['Age'])] = test_rand_NaN_age\n",
    "\n",
    "#plot new Age age values\n",
    "train_features['Age'].hist(bins=70, ax=axis2)"
   ]
  },
  {
   "cell_type": "code",
   "execution_count": null,
   "metadata": {
    "_uuid": "1e1b0cb0bc98d7e916a446a3ac7e31fff7cb43c2"
   },
   "outputs": [],
   "source": [
    "## fill the embark missing values\n",
    "train_features[\"Embarked\"] = train_features[\"Embarked\"].fillna(\"S\")\n",
    "## fill the fare missing value\n",
    "test[\"Fare\"].fillna(test[\"Fare\"].median(), inplace=True)\n",
    "print(test.isnull().sum())\n",
    "train_features.isnull().sum()"
   ]
  },
  {
   "cell_type": "code",
   "execution_count": null,
   "metadata": {
    "_uuid": "4289e6d8bd0c75227151cbfc85850e0faf8d9a11"
   },
   "outputs": [],
   "source": [
    "train_features.info()\n",
    "test.info()\n",
    "print(train_features[\"Sex\"].value_counts())\n",
    "print(test[\"Embarked\"].value_counts())"
   ]
  },
  {
   "cell_type": "code",
   "execution_count": null,
   "metadata": {
    "_uuid": "6756425a0d256c3d5a0d82a300323c49f8a742ea"
   },
   "outputs": [],
   "source": [
    "cleanup_nums = {\"Sex\": {\"male\":0, \"female\":1}, \"Embarked\": {\"S\":0, \"C\":1, \"Q\":2}}\n",
    "train_features.replace(cleanup_nums, inplace=True)\n",
    "test.replace(cleanup_nums, inplace=True)\n",
    "train_features.info()\n",
    "test.info()"
   ]
  },
  {
   "cell_type": "code",
   "execution_count": null,
   "metadata": {
    "_cell_guid": "6346ad6b-ba58-4e24-a50a-5f57a2ff4a3e",
    "_uuid": "c6f73545f93e774b239bf633c611898f71245ccd"
   },
   "outputs": [],
   "source": [
    "random_forest = RandomForestClassifier(n_estimators=100)\n",
    "\n",
    "random_forest.fit(train_features, train_labels)\n",
    "\n",
    "Y_pred = random_forest.predict(test)\n",
    "\n",
    "random_forest.score(train_features, train_labels)"
   ]
  },
  {
   "cell_type": "code",
   "execution_count": null,
   "metadata": {
    "_cell_guid": "89edfb26-8b5c-4f91-9f1b-7568a9ac39a8",
    "_uuid": "8750ce564c61f8bd231e1cf2ebf49b2c3e665890"
   },
   "outputs": [],
   "source": [
    "submission = pd.DataFrame({\"PassengerId\": test_temp[\"PassengerId\"], \"Survived\":Y_pred})\n",
    "submission.to_csv('titanic.csv', index=False)"
   ]
  },
  {
   "cell_type": "code",
   "execution_count": null,
   "metadata": {
    "_uuid": "e8ee5b33b9c8fa9e2eb39ea00baa6e59492f7305"
   },
   "outputs": [],
   "source": []
  }
 ],
 "metadata": {
  "kernelspec": {
   "display_name": "Python 3",
   "language": "python",
   "name": "python3"
  },
  "language_info": {
   "codemirror_mode": {
    "name": "ipython",
    "version": 3
   },
   "file_extension": ".py",
   "mimetype": "text/x-python",
   "name": "python",
   "nbconvert_exporter": "python",
   "pygments_lexer": "ipython3",
   "version": "3.6.4"
  }
 },
 "nbformat": 4,
 "nbformat_minor": 1
}
